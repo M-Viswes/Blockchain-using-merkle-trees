{
 "cells": [
  {
   "cell_type": "code",
   "execution_count": 7,
   "id": "a6650840",
   "metadata": {},
   "outputs": [],
   "source": [
    "import hashlib"
   ]
  },
  {
   "cell_type": "code",
   "execution_count": 25,
   "id": "f2079809",
   "metadata": {},
   "outputs": [],
   "source": [
    "class Block:\n",
    "    def __init__(self,index,transaction,timestamp,dificulty,prevhash,nonce=0):\n",
    "        self.index=index\n",
    "        #for trasaction prefer strcat Sender Reciver Amount\n",
    "        self.transaction=transaction\n",
    "        self.timestamp=timestamp\n",
    "        self.dificulty=dificulty\n",
    "        self.nonce=nonce\n",
    "        self.prevhash=prevhash\n",
    "    def compute_hash(self):\n",
    "        #\n",
    "        return"
   ]
  },
  {
   "cell_type": "code",
   "execution_count": 28,
   "id": "b07d1718",
   "metadata": {},
   "outputs": [],
   "source": [
    "from datetime import datetime\n",
    "class Blockchain:\n",
    "    def __init__(self):\n",
    "        self.current_transactions = []\n",
    "        self.chain = []\n",
    "        self.create_genesis_block()\n",
    "    def create_genesis_block(self):\n",
    "        genesis_block = Block(index=0,transaction=[], timestamp=str(datetime.now()),dificulty=1,prevhash=None)\n",
    "        #genesis_block.hash = genesis_block.compute_hash()\n",
    "        self.chain.append(genesis_block)\n",
    "    @property\n",
    "    def last_block(self):\n",
    "        return self.chain[-1]\n",
    "    def mine(self):\n",
    "        last_block = self.last_block\n",
    "        new_block = Block(index=last_block.index + 1,dificulty=1,\n",
    "                          transactions=self.current_transactions,\n",
    "                          timestamp=str(datetime.now()),\n",
    "                          previous_hash=last_block.hash)\n",
    "        self.chain(new_block)\n",
    "        self.current_transactions = []\n",
    "        return new_block.index"
   ]
  },
  {
   "cell_type": "code",
   "execution_count": 29,
   "id": "05910707",
   "metadata": {},
   "outputs": [],
   "source": [
    "b1=Blockchain()\n",
    "b1.create_genesis_block()"
   ]
  },
  {
   "cell_type": "code",
   "execution_count": 30,
   "id": "270fb7e2",
   "metadata": {},
   "outputs": [
    {
     "data": {
      "text/plain": [
       "<__main__.Blockchain at 0x15a4549e0a0>"
      ]
     },
     "execution_count": 30,
     "metadata": {},
     "output_type": "execute_result"
    }
   ],
   "source": [
    "b1"
   ]
  },
  {
   "cell_type": "code",
   "execution_count": null,
   "id": "db51aa06",
   "metadata": {},
   "outputs": [],
   "source": [
    "#After creating hash from merkel root we can setdificulty,nonce "
   ]
  }
 ],
 "metadata": {
  "kernelspec": {
   "display_name": "Python 3",
   "language": "python",
   "name": "python3"
  },
  "language_info": {
   "codemirror_mode": {
    "name": "ipython",
    "version": 3
   },
   "file_extension": ".py",
   "mimetype": "text/x-python",
   "name": "python",
   "nbconvert_exporter": "python",
   "pygments_lexer": "ipython3",
   "version": "3.8.8"
  }
 },
 "nbformat": 4,
 "nbformat_minor": 5
}
